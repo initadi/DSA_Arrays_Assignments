{
 "cells": [
  {
   "cell_type": "markdown",
   "id": "da41a225-e5c6-4750-ba4d-71e42e6fe68e",
   "metadata": {},
   "source": [
    "##### Given an integer array nums of 2n integers, group these integers into n pairs (a1,b1), (a2,b2),...,(an,bn) such that sum of the min(ai,bi) for all i is maximised. Return max sum\n",
    "\n",
    "##### eg Input - [1,4,3,2] Output - 4\n",
    "\n",
    "###### \n",
    "1. (1,4),(2,3) = 1+2\n",
    "2. (1,3), (2,4) = 1+2\n",
    "3. (1,2), (3,4) = 1+3"
   ]
  },
  {
   "cell_type": "code",
   "execution_count": 1,
   "id": "8cee3d44-6b74-4597-ad85-9224acf1378e",
   "metadata": {},
   "outputs": [
    {
     "name": "stdout",
     "output_type": "stream",
     "text": [
      "(1, 2)\n",
      "(1, 4)\n",
      "(3, 4)\n",
      "(3, 2)\n",
      "The max sum of the min(ai,bi) is  4\n"
     ]
    }
   ],
   "source": [
    "x = [1,4,3,2]\n",
    "\n",
    "class TwoSum:  \n",
    "    def __init__(self, x):  \n",
    "        self.x = x \n",
    "          \n",
    "    def solution(self):  \n",
    "        x.sort()\n",
    "        r=0\n",
    "        r1=0\n",
    "        length = len(x)  \n",
    "          \n",
    "        for i in range(0,length,2):\n",
    "            #print(i)\n",
    "            r+=min(x[i],x[i+1])\n",
    "            print((x[i],x[i+1]))\n",
    "            r1 = min(((x[-i],x[-i-1])))\n",
    "            print((x[-i], x[-i-1]))\n",
    "        return(max(r, r1))\n",
    "    \n",
    "obj = TwoSum(x)  \n",
    "print(\"The max sum of the min(ai,bi) is \", obj.solution()) \n"
   ]
  },
  {
   "cell_type": "code",
   "execution_count": 2,
   "id": "e15183c7-d307-4efb-965e-3680636f1a65",
   "metadata": {},
   "outputs": [
    {
     "name": "stdout",
     "output_type": "stream",
     "text": [
      "(1, 2)\n",
      "(1, 2)\n",
      "(1, 4)\n",
      "(1, 4)\n",
      "(1, 2)\n",
      "(3, 4)\n",
      "(3, 2)\n",
      "(3, 4)\n",
      "(3, 4)\n",
      "(3, 2)\n",
      "range(0, 4)\n"
     ]
    }
   ],
   "source": [
    "def group(x):\n",
    "    x.sort()\n",
    "    for i in range(0, len(x),2):\n",
    "        print((x[i], x[i+1]))\n",
    "        for j in range(0, len(x),2):\n",
    "            print((x[i], x[j+1]))\n",
    "            print((x[-i], x[j-1]))\n",
    "            \n",
    "              \n",
    "group(x)\n",
    "print(range(0, len(x)))"
   ]
  },
  {
   "cell_type": "markdown",
   "id": "07bca137-e85f-48eb-9903-b7a11e389d44",
   "metadata": {},
   "source": [
    "Alice has n candies, where the ith candy is of type candyType[i]. Alice noticed that she started to gain weight, so she visited a doctor. The doc advised Alice to only eat n/2 of the candies she has (n is always even). Alice likes candies, and she wants to eat max no. of different types of candies while still follow doc advice.\n",
    "Given the integer array candy Type of length n, return the max no. of diff types of candies she can eat if she only eats n/2 of them."
   ]
  },
  {
   "cell_type": "code",
   "execution_count": 3,
   "id": "96f1afdd-39d2-45bf-897c-fa099dd895bb",
   "metadata": {},
   "outputs": [
    {
     "name": "stdout",
     "output_type": "stream",
     "text": [
      "The max number of candies she can: 3.0\n",
      "Since there are three uniques canies she can eat each type of 1.0\n"
     ]
    }
   ],
   "source": [
    "candies = [1,1,2,2,3,3]\n",
    "x = len(candies)\n",
    "print(\"The max number of candies she can:\", x/2)\n",
    "print(\"Since there are three uniques canies she can eat each type of\", 3/(x/2)) "
   ]
  },
  {
   "cell_type": "markdown",
   "id": "52edeb2b-2b84-4f86-95a2-a33aca9dc7a5",
   "metadata": {},
   "source": [
    "We define a harmonius array as an array where the differrence between its max value and its min value is exactly 1. Given an integer array nums, return the length of its longest harmonious subsequence among all its possible subsequences. A subseq of an array is a seq that can be derived from the array by deleting some or no elements without changing the order of the remaining elements.\n",
    "\n",
    "Example:\n",
    "1. Input: [1,3,2,2,5,2,3,7]\n",
    "2. Output: 5"
   ]
  },
  {
   "cell_type": "code",
   "execution_count": 4,
   "id": "212ff242-dfa7-4a23-83f7-6b0d16b750df",
   "metadata": {},
   "outputs": [
    {
     "name": "stdout",
     "output_type": "stream",
     "text": [
      "Vlue of left 1\n",
      "Vlue of left 2\n",
      "Vlue of left 3\n",
      "Vlue of left 4\n",
      "Vlue of left 5\n",
      "Vlue of left 6\n",
      "Vlue of left 7\n"
     ]
    },
    {
     "data": {
      "text/plain": [
       "5"
      ]
     },
     "execution_count": 4,
     "metadata": {},
     "output_type": "execute_result"
    }
   ],
   "source": [
    "nums = [1,3,2,2,5,2,3,7]\n",
    "# [1,2,2,2,3,3,5,7]\n",
    "class Solution(object):\n",
    "    def findLHS(self, nums):\n",
    "        \"\"\"\n",
    "        :type nums: List[int]\n",
    "        :rtype: int\n",
    "        \"\"\"\n",
    "        numsLen, left, result = len(nums), 0, 0\n",
    "        nums = sorted(nums)\n",
    "        for i in range(numsLen):\n",
    "            while left < i and nums[i] - nums[left] > 1:\n",
    "                left += 1\n",
    "                print(\"Vlue of left\",left)\n",
    "            if nums[i] - nums[left] == 1:\n",
    "                result = max(i - left + 1, result)\n",
    "        return result\n",
    "        \n",
    "obj = Solution()\n",
    "obj.findLHS(nums)\n"
   ]
  },
  {
   "cell_type": "code",
   "execution_count": 5,
   "id": "a00e546b-7b7f-4ceb-844f-0c5459feb6a0",
   "metadata": {},
   "outputs": [
    {
     "name": "stdout",
     "output_type": "stream",
     "text": [
      "[1, 2, 2, 2, 3, 3, 5, 7]\n",
      "0\n",
      "1\n",
      "1\n",
      "1\n",
      "2\n",
      "2\n",
      "4\n",
      "6\n"
     ]
    }
   ],
   "source": [
    "nums = [1,3,2,2,5,2,3,7]\n",
    "nums = sorted(nums)\n",
    "print(nums)\n",
    "for i in range(0,len(nums)):\n",
    "    left = 0\n",
    "    print(nums[i] - nums[left])\n",
    "    "
   ]
  },
  {
   "cell_type": "code",
   "execution_count": 6,
   "id": "705ae97c-223e-4a72-af0e-d26472a7dff4",
   "metadata": {},
   "outputs": [],
   "source": [
    "class Solution(object):\n",
    "    def findLHS(self, nums):\n",
    "        \"\"\"\n",
    "        :type nums: List[int]\n",
    "        :rtype: int\n",
    "        \"\"\"\n",
    "        numsLen, result = len(nums), 0\n",
    "        counts = {}\n",
    "        for val in nums:\n",
    "            if val in counts:\n",
    "                counts[val] += 1\n",
    "            else:\n",
    "                counts[val] = 1\n",
    "            inc = val + 1\n",
    "            dec = val - 1\n",
    "            if dec in counts:\n",
    "                result = max(result, counts[val] + counts[dec])\n",
    "            if inc in counts:\n",
    "                result = max(result, counts[val] + counts[inc])\n",
    "        return result"
   ]
  },
  {
   "cell_type": "markdown",
   "id": "ff053027-4e87-4562-bc36-b326dc95a83b",
   "metadata": {},
   "source": [
    "Q4. You have a long flowerbed in which some of the plots are planted, and some are not. However, flowers cannot be planted in adjacent pots.Given an array flowerbed containing 0's and 1's where 0 means empty and 1 means not empty, and integer n, return true if n new flowers can be planted without violating the no-adjacent flowers rules\n",
    "Exanple: Input = [1,0,0,0,1], n =1\n",
    "Output = True"
   ]
  },
  {
   "cell_type": "code",
   "execution_count": 7,
   "id": "d591933e-36ee-4937-9df7-24efbede8e55",
   "metadata": {},
   "outputs": [
    {
     "name": "stdout",
     "output_type": "stream",
     "text": [
      "False\n",
      "True\n"
     ]
    },
    {
     "data": {
      "text/plain": [
       "True"
      ]
     },
     "execution_count": 7,
     "metadata": {},
     "output_type": "execute_result"
    }
   ],
   "source": [
    "fb = [1,0,0,0,1]\n",
    "#fb = [0,1,0,1,1]\n",
    "n = 1\n",
    "def can_place_flowers(fb, n):\n",
    "    for i in fb:\n",
    "        if i % 2 == 0 in range(0, len(fb)):\n",
    "            print(True)\n",
    "        else:\n",
    "            print(False)\n",
    "        if i %2 == 0 and fb[i] == 1:\n",
    "            return True\n",
    "can_place_flowers(fb, n)       "
   ]
  },
  {
   "cell_type": "markdown",
   "id": "8f3820d8-b7a8-48a5-a08a-24cb60eb35da",
   "metadata": {},
   "source": [
    "Given an integer array nums, find three numbers whose product is max and return the max product?\n",
    " 1. nums = [1,2,3], Output = 6"
   ]
  },
  {
   "cell_type": "code",
   "execution_count": 8,
   "id": "55797b56-4234-46f1-aaf2-fe073328ce40",
   "metadata": {},
   "outputs": [
    {
     "name": "stdout",
     "output_type": "stream",
     "text": [
      "Maximum product is 6\n"
     ]
    }
   ],
   "source": [
    "\n",
    "# Python3 program to find a maximum\n",
    "# product of a triplet in array\n",
    "# of integers\n",
    "import sys\n",
    " \n",
    "# Function to find a maximum\n",
    "# product of a triplet in array\n",
    "# of integers of size n\n",
    "def mProduct(arr, n):\n",
    " \n",
    "    # if size is less than 3,\n",
    "    # no triplet exists\n",
    "    if n < 3:\n",
    "        return -1\n",
    " \n",
    "    # will contain max product\n",
    "    m_product = -(sys.maxsize - 1)\n",
    "     \n",
    "    for i in range(0, n - 2):\n",
    "        for j in range(i + 1, n - 1):\n",
    "            for k in range(j + 1, n):\n",
    "                m_product = max(\n",
    "                    m_product, arr[i]\n",
    "                    * arr[j] * arr[k])\n",
    " \n",
    "    return m_product\n",
    " \n",
    "# Driver Program\n",
    "arr = [1,2,3]\n",
    "n = len(arr)\n",
    " \n",
    "bulky = mProduct(arr, n)\n",
    " \n",
    "if bulky == -1:\n",
    "    print(\"No Triplet Exits\")\n",
    "else:\n",
    "    print(\"Maximum product is\", bulky)"
   ]
  },
  {
   "cell_type": "markdown",
   "id": "a0ac88d6-5e58-4f0b-a2b7-b88234c56d22",
   "metadata": {},
   "source": [
    "6. Given an array of integers nums which sorted in ascending order, and an integer targget, write a function to search target in nums. If target exists, then return index otherwise retuurn -1\n",
    "Code in O(logn) runtime\n"
   ]
  },
  {
   "cell_type": "markdown",
   "id": "ce02d2bc-befd-4cb7-a487-a3daae42754b",
   "metadata": {},
   "source": [
    "Input nums = [-1.0,3,5,9,12],\n",
    "target = 9\n",
    "Output = 4"
   ]
  },
  {
   "cell_type": "code",
   "execution_count": 9,
   "id": "e183a110-f4e0-419a-b11d-bb8be511c51a",
   "metadata": {},
   "outputs": [
    {
     "data": {
      "text/plain": [
       "4"
      ]
     },
     "execution_count": 9,
     "metadata": {},
     "output_type": "execute_result"
    }
   ],
   "source": [
    "List = [-1,0,3,5,9,12]\n",
    "target = 9\n",
    "int = 0\n",
    "class Solution:\n",
    "    def search(self, nums: List[int], target: int) -> int:\n",
    "        l = 0\n",
    "        r = len(nums)-1\n",
    " \n",
    "        while l<=r:\n",
    "            m = l + (r-l)//2\n",
    "            if nums[m]>target:\n",
    "                r=m-1\n",
    "            elif nums[m]<target:\n",
    "                l=m+1\n",
    "            else:\n",
    "                return m\n",
    "        return -1\n",
    "obj = Solution()\n",
    "obj.search(List, target)"
   ]
  },
  {
   "cell_type": "markdown",
   "id": "fff62494-aef5-4624-8f8e-1dc23d30ce72",
   "metadata": {},
   "source": [
    "7. An array is monotinic if it is either monotone increasing or monotone decreasing. An array nums is monotone increasing if for all i<=j, nums[i]<=nums[j]. An array nums is monotone decreasing if for all i<=j, nums[i]>=nums[j]. Given an integer array nums, return true if the given array is monotonic\n",
    "1. Input = [1,2,2,3]\n",
    "2. Output = True"
   ]
  },
  {
   "cell_type": "code",
   "execution_count": 10,
   "id": "0ff4218b-81ce-45ce-bda7-ca99451eca22",
   "metadata": {},
   "outputs": [
    {
     "name": "stdout",
     "output_type": "stream",
     "text": [
      "Yes\n"
     ]
    }
   ],
   "source": [
    "# Python program for above approach\n",
    "\n",
    "# Function to check array is monotonic\n",
    "def check(arr):\n",
    "\tN = len(arr)\n",
    "\tinc = True\n",
    "\tdec = True\n",
    "\t\n",
    "\t# Loop to check if array is increasing\n",
    "\tfor i in range(0, N-1):\n",
    "\t\n",
    "\t\t# To check if array is not increasing\n",
    "\t\tif arr[i] > arr[i+1]:\n",
    "\t\t\tinc = False\n",
    "\n",
    "\t# Loop to check if array is decreasing\n",
    "\tfor i in range(0, N-1):\n",
    "\t\n",
    "\t# To check if array is not decreasing\n",
    "\t\tif arr[i] < arr[i+1]:\n",
    "\t\t\tdec = False\n",
    "\n",
    "\t# Pick one whether inc or dec\n",
    "\treturn inc or dec\n",
    "\n",
    "# Driver code\n",
    "if __name__ == \"__main__\":\n",
    "\tarr = [1, 2, 3, 3]\n",
    "\n",
    "\t# Function call\n",
    "\tans = check(arr)\n",
    "\tif ans == True:\n",
    "\t\tprint(\"Yes\")\n",
    "\telse:\n",
    "\t\tprint(\"No\")\n",
    "\n",
    "# This code is contributed by Rohit Pradhan\n"
   ]
  },
  {
   "cell_type": "code",
   "execution_count": 11,
   "id": "a219cd2e-4abe-4f6e-867d-e871f577f915",
   "metadata": {},
   "outputs": [
    {
     "name": "stdout",
     "output_type": "stream",
     "text": [
      "Is Monotonic ?:  True\n",
      "Is Monotonic ?:  False\n",
      "Is Monotonic ?:  True\n"
     ]
    }
   ],
   "source": [
    "def check_monotonic(array):\n",
    "\treturn (\n",
    "\t\t# First check for decreasing order sequence...\n",
    "\t\tall(element <= array[index - 1] for index, element in enumerate(array) if index > 0) or\n",
    "\t\t# Then check for increasing order sequence...\n",
    "\t\tall(element >= array[index - 1] for index, element in enumerate(array) if index > 0)\n",
    "\t)\n",
    "\n",
    "print(\"Is Monotonic ?: \", check_monotonic([7, 5, 3, 1]))\n",
    "print(\"Is Monotonic ?: \", check_monotonic([4, 0, 3, 1]))\n",
    "print(\"Is Monotonic ?: \", check_monotonic([5, 4, 3]))\n"
   ]
  },
  {
   "cell_type": "markdown",
   "id": "9b9fd41b-e805-4ccf-b2eb-d9a651ff9043",
   "metadata": {},
   "source": [
    "8. You are given an integer array nums and an integer k. In one operation, you can choose any index i where 0 <=i<nums.length and change nums[i] to nums[i]+x where x is an integer from the range[-k,k]. You can apply this operation at most once for each index i. The score of the nums is the diff bet the max n min elements in nums. Return the minimum score of nums after applying the mentioned operation at most once for each index in it."
   ]
  },
  {
   "cell_type": "markdown",
   "id": "425784fb-833c-4a54-807d-9f56824431a2",
   "metadata": {},
   "source": [
    "Example 1:\n",
    "Input: nums = [1], k = 0\n",
    "Output: 0\n",
    "\n",
    "Explanation: The score is max(nums) - min(nums) = 1 - 1 = 0."
   ]
  },
  {
   "cell_type": "code",
   "execution_count": 13,
   "id": "21cc6fbe-fc1c-43ba-a7d0-fb1104b1ec0c",
   "metadata": {},
   "outputs": [
    {
     "data": {
      "text/plain": [
       "0"
      ]
     },
     "execution_count": 13,
     "metadata": {},
     "output_type": "execute_result"
    }
   ],
   "source": [
    "def smallestRangeI(A, K):\n",
    "    z = max(A)\n",
    "    y = min(A)\n",
    "    return max(0, z-K-y-K)\n",
    "    \n",
    "A = [1]\n",
    "K = 0\n",
    "\n",
    "smallestRangeI(A, K)"
   ]
  },
  {
   "cell_type": "code",
   "execution_count": null,
   "id": "df80b044-d5d5-475b-992b-6f7cee4bd0bf",
   "metadata": {},
   "outputs": [],
   "source": []
  }
 ],
 "metadata": {
  "kernelspec": {
   "display_name": "Python 3 (ipykernel)",
   "language": "python",
   "name": "python3"
  },
  "language_info": {
   "codemirror_mode": {
    "name": "ipython",
    "version": 3
   },
   "file_extension": ".py",
   "mimetype": "text/x-python",
   "name": "python",
   "nbconvert_exporter": "python",
   "pygments_lexer": "ipython3",
   "version": "3.10.6"
  }
 },
 "nbformat": 4,
 "nbformat_minor": 5
}
