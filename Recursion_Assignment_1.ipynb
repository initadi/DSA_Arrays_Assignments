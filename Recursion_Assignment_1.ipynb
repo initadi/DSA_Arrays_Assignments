{
 "cells": [
  {
   "cell_type": "markdown",
   "id": "edb53e8a-cea7-49b1-a939-169b7593e64c",
   "metadata": {
    "tags": []
   },
   "source": [
    "# Assignment Questions 9\n",
    "\n",
    "<aside>\n",
    "💡 **Question 1**\n",
    "\n",
    "Given an integer `n`, return *`true` if it is a power of two. Otherwise, return `false`*.\n",
    "\n",
    "An integer `n` is a power of two, if there exists an integer `x` such that `n == 2x`.\n",
    "\n",
    "**Example 1:**\n",
    "Input: n = 1 \n",
    "\n",
    "Output: true\n",
    "\n",
    "**Example 2:**\n",
    "Input: n = 16 \n",
    "\n",
    "Output: true\n",
    "\n",
    "**Example 3:**\n",
    "Input: n = 3 \n",
    "\n",
    "Output: false\n",
    "\n",
    "</aside>\n",
    "\n",
    "<aside>\n",
    "💡 **Question 2**\n",
    "\n",
    "Given a number n, find the sum of the first natural numbers.\n",
    "\n",
    "**Example 1:**\n",
    "\n",
    "Input: n = 3 \n",
    "\n",
    "Output: 6\n",
    "\n",
    "**Example 2:**\n",
    "\n",
    "Input  : 5 \n",
    "\n",
    "Output : 15\n",
    "\n",
    "</aside>\n",
    "\n",
    "<aside>\n",
    "💡 **Question 3**\n",
    "\n",
    "****Given a positive integer, N. Find the factorial of N. \n",
    "\n",
    "**Example 1:**\n",
    "\n",
    "Input: N = 5 \n",
    "\n",
    "Output: 120\n",
    "\n",
    "**Example 2:**\n",
    "\n",
    "Input: N = 4\n",
    "\n",
    "Output: 24\n",
    "\n",
    "</aside>\n",
    "\n",
    "<aside>\n",
    "💡 **Question 4**\n",
    "\n",
    "Given a number N and a power P, the task is to find the exponent of this number raised to the given power, i.e. N^P.\n",
    "\n",
    "**Example 1 :** \n",
    "\n",
    "Input: N = 5, P = 2\n",
    "\n",
    "Output: 25\n",
    "\n",
    "**Example 2 :**\n",
    "Input: N = 2, P = 5\n",
    "\n",
    "Output: 32\n",
    "\n",
    "</aside>\n",
    "\n",
    "<aside>\n",
    "💡 **Question 5**\n",
    "\n",
    "Given an array of integers **arr**, the task is to find maximum element of that array using recursion.\n",
    "\n",
    "**Example 1:**\n",
    "\n",
    "Input: arr = {1, 4, 3, -5, -4, 8, 6};\n",
    "Output: 8\n",
    "\n",
    "**Example 2:**\n",
    "\n",
    "Input: arr = {1, 4, 45, 6, 10, -8};\n",
    "Output: 45\n",
    "\n",
    "</aside>\n",
    "\n",
    "<aside>\n",
    "💡 **Question 6**\n",
    "\n",
    "Given first term (a), common difference (d) and a integer N of the Arithmetic Progression series, the task is to find Nth term of the series.\n",
    "\n",
    "**Example 1:**\n",
    "\n",
    "Input : a = 2 d = 1 N = 5\n",
    "Output : 6\n",
    "The 5th term of the series is : 6\n",
    "\n",
    "**Example 2:**\n",
    "\n",
    "Input : a = 5 d = 2 N = 10\n",
    "Output : 23\n",
    "The 10th term of the series is : 23\n",
    "\n",
    "</aside>\n",
    "\n",
    "<aside>\n",
    "💡 **Question 7**\n",
    "\n",
    "Given a string S, the task is to write a program to print all permutations of a given string.\n",
    "\n",
    "**Example 1:**\n",
    "\n",
    "***Input:***\n",
    "\n",
    "*S = “ABC”*\n",
    "\n",
    "***Output:***\n",
    "\n",
    "*“ABC”, “ACB”, “BAC”, “BCA”, “CBA”, “CAB”*\n",
    "\n",
    "**Example 2:**\n",
    "\n",
    "***Input:***\n",
    "\n",
    "*S = “XY”*\n",
    "\n",
    "***Output:***\n",
    "\n",
    "*“XY”, “YX”*\n",
    "\n",
    "</aside>\n",
    "\n",
    "<aside>\n",
    "💡 **Question 8**\n",
    "\n",
    "Given an array, find a product of all array elements.\n",
    "\n",
    "**Example 1:**\n",
    "\n",
    "Input  : arr[] = {1, 2, 3, 4, 5}\n",
    "Output : 120\n",
    "**Example 2:**\n",
    "\n",
    "Input  : arr[] = {1, 6, 3}\n",
    "Output : 18\n",
    "\n",
    "</aside>"
   ]
  },
  {
   "cell_type": "markdown",
   "id": "4ba967a4-b8f6-49d8-89e2-b9f189023863",
   "metadata": {},
   "source": [
    "💡 **Question 1**\n",
    "Given an integer n, return true if it is a power of two. Otherwise, return false.\n",
    "\n",
    "An integer n is a power of two, if there exists an integer x such that n == 2x.\n",
    "\n",
    "Example 1: Input: n = 1\n",
    "\n",
    "Output: true\n",
    "\n",
    "Example 2: Input: n = 16\n",
    "\n",
    "Output: true\n",
    "\n",
    "Example 3: Input: n = 3\n",
    "\n",
    "Output: false"
   ]
  },
  {
   "cell_type": "code",
   "execution_count": 2,
   "id": "8f3e058c-a60a-46b8-a32a-05a16c4109ff",
   "metadata": {},
   "outputs": [
    {
     "name": "stdin",
     "output_type": "stream",
     "text": [
      " 64\n"
     ]
    },
    {
     "data": {
      "text/plain": [
       "True"
      ]
     },
     "execution_count": 2,
     "metadata": {},
     "output_type": "execute_result"
    }
   ],
   "source": [
    "n = int(input())\n",
    "def power2(n):\n",
    "    #Check whether power of two\n",
    "    if n==1:\n",
    "        return True\n",
    "    elif n % 2 != 0 or n == 0:\n",
    "        return False\n",
    "    return power2(n/2)\n",
    "power2(n)\n"
   ]
  },
  {
   "cell_type": "markdown",
   "id": "338d6836-5437-41b3-b6b7-135b618da9fd",
   "metadata": {},
   "source": [
    "💡 **Question 2**\n",
    "Given a number n, find the sum of the first natural numbers.\n",
    "\n",
    "Example 1:\n",
    "\n",
    "Input: n = 3\n",
    "\n",
    "Output: 6\n",
    "\n",
    "Example 2:\n",
    "\n",
    "Input : 5\n",
    "\n",
    "Output : 15"
   ]
  },
  {
   "cell_type": "code",
   "execution_count": null,
   "id": "12d3f4f6-1c98-45f2-ba34-6daf3e36b6a5",
   "metadata": {},
   "outputs": [
    {
     "name": "stdout",
     "output_type": "stream",
     "text": [
      "15\n"
     ]
    }
   ],
   "source": [
    "def recurSum(n):\n",
    "\tif n <= 1:\n",
    "\t\treturn n\n",
    "\treturn n + recurSum(n - 1)\n",
    "\n",
    "# Driver code\n",
    "n = 5\n",
    "print(recurSum(n))"
   ]
  },
  {
   "cell_type": "markdown",
   "id": "f2e72345-4a76-4322-9b6c-545bdb79a56a",
   "metadata": {},
   "source": [
    "💡 **Question 3**\n",
    "****Given a positive integer, N. Find the factorial of N.\n",
    "\n",
    "Example 1:\n",
    "\n",
    "Input: N = 5\n",
    "\n",
    "Output: 120\n",
    "\n",
    "Example 2:\n",
    "\n",
    "Input: N = 4\n",
    "\n",
    "Output: 24"
   ]
  },
  {
   "cell_type": "code",
   "execution_count": 5,
   "id": "91d3b375-2a93-4b83-880c-be8e6e8318b2",
   "metadata": {},
   "outputs": [
    {
     "name": "stdout",
     "output_type": "stream",
     "text": [
      "120\n"
     ]
    }
   ],
   "source": [
    "def factor(n):\n",
    "\tif n <= 1:\n",
    "\t\treturn n\n",
    "\treturn n * factor(n - 1)\n",
    "\n",
    "# Driver code\n",
    "n = 5\n",
    "print(factor(n))"
   ]
  },
  {
   "cell_type": "markdown",
   "id": "10f946a5-986c-4024-b585-d6bab675f7d5",
   "metadata": {},
   "source": [
    "💡 **Question 4**\n",
    "Given a number N and a power P, the task is to find the exponent of this number raised to the given power, i.e. N^P.\n",
    "\n",
    "Example 1 :\n",
    "\n",
    "Input: N = 5, P = 2\n",
    "\n",
    "Output: 25\n",
    "\n",
    "Example 2 : Input: N = 2, P = 5\n",
    "\n",
    "Output: 32"
   ]
  },
  {
   "cell_type": "code",
   "execution_count": 18,
   "id": "118446e4-76ac-4c29-bc6f-b3a5f52fd6b0",
   "metadata": {},
   "outputs": [
    {
     "name": "stdout",
     "output_type": "stream",
     "text": [
      "25\n"
     ]
    }
   ],
   "source": [
    "def pow(n,p):\n",
    "    if p != 0:\n",
    "        return n * pow(n, p - 1)\n",
    "    else:\n",
    "        return 1\n",
    "# Driver code\n",
    "n = 5\n",
    "p = 2\n",
    "print(pow(n,p))"
   ]
  },
  {
   "cell_type": "markdown",
   "id": "c2bbee29-71f5-48c0-b055-ac5f37078e21",
   "metadata": {},
   "source": [
    "💡 **Question 5**\n",
    "Given an array of integers arr, the task is to find maximum element of that array using recursion.\n",
    "\n",
    "Example 1:\n",
    "\n",
    "Input: arr = {1, 4, 3, -5, -4, 8, 6}; Output: 8\n",
    "\n",
    "Example 2:\n",
    "\n",
    "Input: arr = {1, 4, 45, 6, 10, -8}; Output: 45"
   ]
  },
  {
   "cell_type": "code",
   "execution_count": 20,
   "id": "2aeed54b-abdc-4b89-a977-76cdbca99069",
   "metadata": {},
   "outputs": [
    {
     "name": "stdout",
     "output_type": "stream",
     "text": [
      "45\n"
     ]
    }
   ],
   "source": [
    "def findMaxel(A, n):\n",
    "\n",
    "\t# if n = 0 means whole array\n",
    "\t# has been traversed\n",
    "\tif (n == 1):\n",
    "\t\treturn A[0]\n",
    "\treturn max(A[n - 1], findMaxel(A, n - 1))\n",
    "\n",
    "# Driver Code\n",
    "if __name__ == \"__main__\":\n",
    "\t\n",
    "\tA = [1, 4, 45, 6, -50, 10, 2]\n",
    "\tn = len(A)\n",
    "\tprint(findMaxel(A, n))\n",
    "\n",
    "# This code is contributed by ita_c\n"
   ]
  },
  {
   "cell_type": "markdown",
   "id": "e2847ed3-e6d6-46dd-b6be-f82efbdc0f5b",
   "metadata": {},
   "source": [
    "💡 **Question 6**\n",
    "Given first term (a), common difference (d) and a integer N of the Arithmetic Progression series, the task is to find Nth term of the series.\n",
    "\n",
    "Example 1:\n",
    "\n",
    "Input : a = 2 d = 1 N = 5 Output : 6 The 5th term of the series is : 6\n",
    "\n",
    "Example 2:\n",
    "\n",
    "Input : a = 5 d = 2 N = 10 Output : 23 The 10th term of the series is : 23"
   ]
  },
  {
   "cell_type": "code",
   "execution_count": 23,
   "id": "bf702deb-b4cd-48bb-a9c0-22133f472986",
   "metadata": {},
   "outputs": [
    {
     "name": "stdout",
     "output_type": "stream",
     "text": [
      "The  10 th term of the series is :  23\n"
     ]
    }
   ],
   "source": [
    "# Python 3 Program to\n",
    "# find nth term of\n",
    "# Arithmetic progression\n",
    "\n",
    "def Nth_of_AP(a, d, N) :\n",
    "\n",
    "\t# using formula to find the\n",
    "\t# Nth term t(n) = a(1) + (n-1)*d\n",
    "\treturn (a + (N - 1) * d)\n",
    "\t\n",
    "\n",
    "# Driver code\n",
    "a = 5 # starting number\n",
    "d = 2 # Common difference\n",
    "N = 10 # N th term to be find\n",
    "\n",
    "# Display the output\n",
    "print( \"The \", N ,\"th term of the series is : \",\n",
    "\tNth_of_AP(a, d, N))\n",
    "\n"
   ]
  },
  {
   "cell_type": "markdown",
   "id": "2e8e1729-f336-4f97-9cb1-0652a790f563",
   "metadata": {},
   "source": [
    " **Question 7**\n",
    "Given a string S, the task is to write a program to print all permutations of a given string.\n",
    "\n",
    "Example 1:\n",
    "\n",
    "Input:\n",
    "\n",
    "S = “ABC”\n",
    "\n",
    "Output:\n",
    "\n",
    "“ABC”, “ACB”, “BAC”, “BCA”, “CBA”, “CAB”\n",
    "\n",
    "Example 2:\n",
    "\n",
    "Input:\n",
    "\n",
    "S = “XY”\n",
    "\n",
    "Output:\n",
    "\n",
    "“XY”, “YX”"
   ]
  },
  {
   "cell_type": "code",
   "execution_count": 25,
   "id": "2a1b9eae-ec0c-4ef2-97ea-105a003f827c",
   "metadata": {},
   "outputs": [
    {
     "name": "stdout",
     "output_type": "stream",
     "text": [
      "ABC\n",
      "ACB\n",
      "BAC\n",
      "BCA\n",
      "CBA\n",
      "CAB\n"
     ]
    }
   ],
   "source": [
    "def toString(List):\n",
    "    return ''.join(List)\n",
    " \n",
    "# Function to print permutations of string\n",
    "# This function takes three parameters:\n",
    "# 1. String\n",
    "# 2. Starting index of the string\n",
    "# 3. Ending index of the string.\n",
    " \n",
    " \n",
    "def permute(a, l, r):\n",
    "    if l == r:\n",
    "        print(toString(a))\n",
    "    else:\n",
    "        for i in range(l, r):\n",
    "            a[l], a[i] = a[i], a[l]\n",
    "            permute(a, l+1, r)\n",
    "            a[l], a[i] = a[i], a[l]  # backtrack\n",
    "# Driver code\n",
    "string = \"ABC\"\n",
    "n = len(string)\n",
    "a = list(string)\n",
    "permute(a, 0, n)"
   ]
  },
  {
   "cell_type": "markdown",
   "id": "323ce101-10e4-4e7c-9ba8-1cb5b8c199bf",
   "metadata": {},
   "source": [
    "💡 **Question 8**\n",
    "Given an array, find a product of all array elements.\n",
    "\n",
    "Example 1:\n",
    "\n",
    "Input : arr[] = {1, 2, 3, 4, 5} Output : 120 Example 2:\n",
    "\n",
    "Input : arr[] = {1, 6, 3} Output : 18"
   ]
  },
  {
   "cell_type": "code",
   "execution_count": 41,
   "id": "784621a9-0e4d-4816-b86c-5c78c53ee03a",
   "metadata": {},
   "outputs": [
    {
     "name": "stdout",
     "output_type": "stream",
     "text": [
      "Array 1:\n",
      "1 2 3 4 5 \n",
      "Product of the array elements: 120\n"
     ]
    }
   ],
   "source": [
    "# Python program to find th eproduct of the list elements using recursion\n",
    "\n",
    "def findProduct(arr, n):\n",
    "    if n == 0:\n",
    "        return(arr[n])\n",
    "    else:\n",
    "        return (arr[n] * findProduct(arr, n - 1))\n",
    "\n",
    "def printListElements(arr, size):\n",
    "    for i in range(size):\n",
    "        print(arr[i], end=\" \")\n",
    "    print()\n",
    "\n",
    "arr1 = [1, 2, 3, 4, 5]\n",
    "size1 = len(arr1)\n",
    "print(\"Array 1:\")\n",
    "printListElements(arr1, size1)\n",
    "print(\"Product of the array elements:\", findProduct(arr1, size1-1))\n"
   ]
  },
  {
   "cell_type": "code",
   "execution_count": null,
   "id": "68aa2041-48cf-4aee-8d97-4fb4459dfcd0",
   "metadata": {},
   "outputs": [],
   "source": []
  }
 ],
 "metadata": {
  "kernelspec": {
   "display_name": "Python 3 (ipykernel)",
   "language": "python",
   "name": "python3"
  },
  "language_info": {
   "codemirror_mode": {
    "name": "ipython",
    "version": 3
   },
   "file_extension": ".py",
   "mimetype": "text/x-python",
   "name": "python",
   "nbconvert_exporter": "python",
   "pygments_lexer": "ipython3",
   "version": "3.10.6"
  }
 },
 "nbformat": 4,
 "nbformat_minor": 5
}
