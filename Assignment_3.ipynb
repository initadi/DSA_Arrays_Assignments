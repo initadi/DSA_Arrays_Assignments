{
 "cells": [
  {
   "cell_type": "markdown",
   "id": "15b59cef-5f2e-4905-9952-4a8c445d2498",
   "metadata": {},
   "source": [
    "# Arrays"
   ]
  },
  {
   "cell_type": "markdown",
   "id": "e194810f-39a6-48b7-bf2c-a0fbc647eb50",
   "metadata": {},
   "source": [
    "Question 1\n",
    "Given an integer array nums of length n and an integer target, find three integers\n",
    "in nums such that the sum is closest to the target.\n",
    "Return the sum of the three integers.\n",
    "\n",
    "You may assume that each input would have exactly one solution.\n",
    "\n",
    "Example 1:\n",
    "Input: nums = [-1,2,1,-4], target = 1\n",
    "Output: 2\n",
    "\n",
    "Explanation: The sum that is closest to the target is 2. (-1 + 2 + 1 = 2)."
   ]
  },
  {
   "cell_type": "code",
   "execution_count": 5,
   "id": "e6d17ead-670f-4e30-835b-f4d17b46e8c5",
   "metadata": {},
   "outputs": [
    {
     "data": {
      "text/plain": [
       "2"
      ]
     },
     "execution_count": 5,
     "metadata": {},
     "output_type": "execute_result"
    }
   ],
   "source": [
    "nums = [-1,2,1,-4]\n",
    "tgt = 1\n",
    "\n",
    "def sus(nums, tgt):\n",
    "    for i in range(len(nums)-1):\n",
    "        if nums[i] == tgt:\n",
    "            return i\n",
    "sus(nums,tgt)"
   ]
  },
  {
   "cell_type": "markdown",
   "id": "7affbaaa-4421-4b92-b65d-0cf8eb3e880d",
   "metadata": {},
   "source": [
    "We'll use Three-pointer approach in this question.\n",
    "Sort the given list in ascending order.\n",
    "A pointer lets say 'i' will be used to iterate through the given list nums.\n",
    "Within that loop, two more pointers lets say 'start' and 'end' would be initialised as follows:\n",
    "start=i+1\n",
    "end=len(nums)-1\n",
    "Now within this loop we will run another loop until the value of start in less than end.\n",
    "Take a variable lets say 'sum' to store value of nums[i]+nums[start]+nums[end].\n",
    "In this loop we would be checking for 3 conditions.\n",
    "Condition 1:\n",
    "if sum==target, the sum contains the required answer as the minimum possible difference between any two numbers is 0 and sum-target will also give 0 in this case.\n",
    "Condition 2:\n",
    "if difference in target and sum is less than value contained by our 'diff' variable(initialized with maximum possible value) the the diff would become equal to the absolute difference in target and sum and answer variable 'ans' would be assigned the value of 'sum', as this sum gives the minimum difference till now.\n",
    "Condition 3:\"\n",
    "We'll check if the value of sum is greater than target then the end will be decremented by one or else the start in incremented by one in case the sum is less than target."
   ]
  },
  {
   "cell_type": "code",
   "execution_count": 8,
   "id": "c2df8044-73ac-4590-bf04-f4b7858841eb",
   "metadata": {},
   "outputs": [
    {
     "data": {
      "text/plain": [
       "2"
      ]
     },
     "execution_count": 8,
     "metadata": {},
     "output_type": "execute_result"
    }
   ],
   "source": [
    "class Solution:\n",
    "    def threeSumClosest(self, nums: nums, target: int) -> int:\n",
    "        nums=sorted(nums)\n",
    "        diff=float('inf')\n",
    "        for i in range(len(nums)-1):\n",
    "            start=i+1\n",
    "            end=len(nums)-1\n",
    "            while(start<end):\n",
    "                sum=nums[i]+nums[start]+nums[end]\n",
    "                if sum==target:\n",
    "                    return target\n",
    "                elif abs(target-sum)<diff:\n",
    "                    diff=abs(target-sum)\n",
    "                    ans=sum\n",
    "                if sum>target:\n",
    "                    end-=1\n",
    "                else:\n",
    "                    start+=1\n",
    "        return ans\n",
    "nums = [-1,2,1,-4]\n",
    "target = 1\n",
    "\n",
    "obj=Solution()\n",
    "obj.threeSumClosest(nums,target)"
   ]
  },
  {
   "cell_type": "markdown",
   "id": "517dbe11-ed7a-4e74-9e73-a2244d596329",
   "metadata": {},
   "source": [
    "Question 2\n",
    "Given an array nums of n integers, return an array of all the unique quadruplets\n",
    "[nums[a], nums[b], nums[c], nums[d]] such that:\n",
    "           ● 0 <= a, b, c, d < n\n",
    "           ● a, b, c, and d are distinct.\n",
    "           ● nums[a] + nums[b] + nums[c] + nums[d] == target\n",
    "\n",
    "You may return the answer in any order.\n",
    "\n",
    "Example 1:\n",
    "Input: nums = [1,0,-1,0,-2,2], target = 0\n",
    "Output: [[-2,-1,1,2],[-2,0,0,2],[-1,0,0,1]]"
   ]
  },
  {
   "cell_type": "code",
   "execution_count": 10,
   "id": "2033445c-26ba-424a-8e14-ad8ba59a4227",
   "metadata": {},
   "outputs": [
    {
     "data": {
      "text/plain": [
       "[[-2, -1, 1, 2], [-2, 0, 0, 2], [-1, 0, 0, 1]]"
      ]
     },
     "execution_count": 10,
     "metadata": {},
     "output_type": "execute_result"
    }
   ],
   "source": [
    "from typing import List\n",
    "\n",
    "\n",
    "class Solution:\n",
    "    def fourSum(self, nums: List[int], target: int) -> List[List[int]]:\n",
    "        nums.sort()\n",
    "        res = []\n",
    "\n",
    "        def k_sum(nums, k, target, arr, start_idx):\n",
    "            if k == 2:\n",
    "                two_sum(nums, arr, k, start_idx, target)\n",
    "                return\n",
    "            for i in range(start_idx, len(nums) - k + 1):\n",
    "                if i > start_idx and nums[i] == nums[i - 1]:\n",
    "                    continue\n",
    "                k_sum(nums, k - 1, target - nums[i], arr + [nums[i]], i + 1)\n",
    "\n",
    "        def two_sum(nums, arr, k, start_idx, target):\n",
    "            left = start_idx\n",
    "            right = len(nums) - 1\n",
    "\n",
    "            while left < right:\n",
    "                total = nums[left] + nums[right]\n",
    "                if total == target:\n",
    "                    res.append(arr + [nums[left], nums[right]])\n",
    "                    left += 1\n",
    "                    right -= 1\n",
    "\n",
    "                    while left < right and nums[left] == nums[left - 1]:\n",
    "                        left += 1  # skip same element to avoid duplicate quadruplets\n",
    "                    while left < right and nums[right] == nums[right + 1]:\n",
    "                        right -= 1  # skip same element to avoid duplicate quadruplets\n",
    "                elif total < target:\n",
    "                    left += 1\n",
    "                else:\n",
    "                    right -= 1\n",
    "\n",
    "        k_sum(nums, 4, target, [], 0)\n",
    "        return res\n",
    "nums = [1,0,-1,0,-2,2]\n",
    "target = 0\n",
    "obj = Solution()\n",
    "obj.fourSum(nums, target)"
   ]
  },
  {
   "cell_type": "markdown",
   "id": "9ec1c08f-0a3a-495e-a765-f26124edce0c",
   "metadata": {},
   "source": [
    "<aside>\n",
    "💡 **Question 3**\n",
    "A permutation of an array of integers is an arrangement of its members into a\n",
    "sequence or linear order.\n",
    "\n",
    "For example, for arr = [1,2,3], the following are all the permutations of arr:\n",
    "[1,2,3], [1,3,2], [2, 1, 3], [2, 3, 1], [3,1,2], [3,2,1].\n",
    "\n",
    "The next permutation of an array of integers is the next lexicographically greater\n",
    "permutation of its integer. More formally, if all the permutations of the array are\n",
    "sorted in one container according to their lexicographical order, then the next\n",
    "permutation of that array is the permutation that follows it in the sorted container.\n",
    "\n",
    "If such an arrangement is not possible, the array must be rearranged as the\n",
    "lowest possible order (i.e., sorted in ascending order).\n",
    "\n",
    "● For example, the next permutation of arr = [1,2,3] is [1,3,2].\n",
    "● Similarly, the next permutation of arr = [2,3,1] is [3,1,2].\n",
    "● While the next permutation of arr = [3,2,1] is [1,2,3] because [3,2,1] does not\n",
    "have a lexicographical larger rearrangement.\n",
    "\n",
    "Given an array of integers nums, find the next permutation of nums.\n",
    "The replacement must be in place and use only constant extra memory.\n",
    "\n",
    "**Example 1:**\n",
    "Input: nums = [1,2,3]\n",
    "Output: [1,3,2]\n",
    "\n",
    "</aside>"
   ]
  },
  {
   "cell_type": "code",
   "execution_count": 12,
   "id": "74c5db41-8e2a-4805-8264-8136409723b4",
   "metadata": {},
   "outputs": [
    {
     "data": {
      "text/plain": [
       "[1, 3, 2]"
      ]
     },
     "execution_count": 12,
     "metadata": {},
     "output_type": "execute_result"
    }
   ],
   "source": [
    "class Solution(object):\n",
    "    def nextPermutation(self, nums):\n",
    "        n = len(nums)\n",
    "        k, l = n - 2, n - 1\n",
    "        while k >= 0 and nums[k] >= nums[k + 1]:\n",
    "            k -= 1\n",
    "        if k < 0:\n",
    "            nums.reverse()\n",
    "        else:\n",
    "            while l > k and nums[l] <= nums[k]:\n",
    "                l -= 1\n",
    "            nums[k], nums[l] = nums[l], nums[k]\n",
    "            nums[k + 1:n] = reversed(nums[k + 1:n])\n",
    "        return nums\n",
    "\n",
    "\n",
    "nums = [1,2,3]\n",
    "obj = Solution()\n",
    "obj.nextPermutation(nums)"
   ]
  },
  {
   "cell_type": "markdown",
   "id": "35f7bed9-29fb-4753-bdb5-7ea5ef3db865",
   "metadata": {},
   "source": [
    "Question 4\n",
    "Given a sorted array of distinct integers and a target value, return the index if the\n",
    "target is found. If not, return the index where it would be if it were inserted in\n",
    "order.\n",
    "\n",
    "You must write an algorithm with O(log n) runtime complexity.\n",
    "\n",
    "Example 1:\n",
    "Input: nums = [1,3,5,6], target = 5\n",
    "Output: 2"
   ]
  },
  {
   "cell_type": "code",
   "execution_count": 16,
   "id": "68b90ae7-03a1-47b3-8128-4f7d9b73441c",
   "metadata": {},
   "outputs": [
    {
     "name": "stdout",
     "output_type": "stream",
     "text": [
      "[6]\n"
     ]
    },
    {
     "data": {
      "text/plain": [
       "2"
      ]
     },
     "execution_count": 16,
     "metadata": {},
     "output_type": "execute_result"
    }
   ],
   "source": [
    "class Solution:\n",
    "    def searchInsert(self, nums, target):\n",
    "        # Last and First indexes\n",
    "        start = 0\n",
    "        end = len(nums)-1\n",
    "        a = nums[-1:]\n",
    "        print(a)\n",
    "        \n",
    "        # Traverse an array\n",
    "        while (start <= end):\n",
    "            \n",
    "            mid = (start + end)/2\n",
    "             \n",
    "            # if target value found.\n",
    "            if nums[int(mid)] == target:\n",
    "                return int(mid)\n",
    "            \n",
    "            # If target value is greater then mid elements's value\n",
    "            elif target > nums[int(mid)]:\n",
    "                start = mid + 1\n",
    "                \n",
    "            # otherwise target value is less, \n",
    "            else:\n",
    "                end = mid -1\n",
    "                \n",
    "        return end+1\n",
    "\n",
    "nums = [1,3,5,6]\n",
    "target = 5\n",
    "obj = Solution()\n",
    "obj.searchInsert(nums,target)"
   ]
  },
  {
   "cell_type": "markdown",
   "id": "6956cac8-9b0d-416e-b094-0ef449467070",
   "metadata": {},
   "source": [
    "<aside>\n",
    "💡 **Question 5**\n",
    "You are given a large integer represented as an integer array digits, where each\n",
    "digits[i] is the ith digit of the integer. The digits are ordered from most significant\n",
    "to least significant in left-to-right order. The large integer does not contain any\n",
    "leading 0's.\n",
    "\n",
    "Increment the large integer by one and return the resulting array of digits.\n",
    "\n",
    "**Example 1:**\n",
    "Input: digits = [1,2,3]\n",
    "Output: [1,2,4]\n",
    "\n",
    "**Explanation:** The array represents the integer 123.\n",
    "Incrementing by one gives 123 + 1 = 124.\n",
    "Thus, the result should be [1,2,4].\n",
    "\n",
    "</aside>"
   ]
  },
  {
   "cell_type": "code",
   "execution_count": 17,
   "id": "e7be8e8d-e3d3-4136-8982-78b28d8a4e6c",
   "metadata": {},
   "outputs": [
    {
     "data": {
      "text/plain": [
       "[1, 2, 4]"
      ]
     },
     "execution_count": 17,
     "metadata": {},
     "output_type": "execute_result"
    }
   ],
   "source": [
    "class Solution:\n",
    "    def plusOne(self, digits):\n",
    "        \"\"\"\n",
    "        :type digits: List[int]\n",
    "        :rtype: List[int]\n",
    "        \"\"\"\n",
    "        digit_length = len(digits)\n",
    "        \n",
    "        i = digit_length - 1\n",
    "        \n",
    "        while digits[i] == 9 and i >= 0:\n",
    "            i -= 1\n",
    "        \n",
    "        if i == -1:\n",
    "            results = [0]*(digit_length + 1)\n",
    "            results[0] = 1\n",
    "            return results\n",
    "        \n",
    "        results = [0]*(digit_length)\n",
    "        \n",
    "        results[i] = digits[i] + 1\n",
    "        \n",
    "        for j in range(i-1, -1, -1):\n",
    "            results[j] = digits[j]\n",
    "        \n",
    "        return results\n",
    "digits = [1,2,3]\n",
    "obj = Solution()\n",
    "obj.plusOne(digits)"
   ]
  },
  {
   "cell_type": "markdown",
   "id": "fdbdb7bb-1326-4ff4-9260-f6273058e17c",
   "metadata": {},
   "source": [
    "Question 6\n",
    "Given a non-empty array of integers nums, every element appears twice except\n",
    "for one. Find that single one.\n",
    "\n",
    "You must implement a solution with a linear runtime complexity and use only\n",
    "constant extra space.\n",
    "\n",
    "Example 1:\n",
    "Input: nums = [2,2,1]\n",
    "Output: 1"
   ]
  },
  {
   "cell_type": "code",
   "execution_count": 18,
   "id": "db34fd80-f742-4059-84b4-39084eb3886f",
   "metadata": {},
   "outputs": [
    {
     "name": "stdout",
     "output_type": "stream",
     "text": [
      "2\n"
     ]
    }
   ],
   "source": [
    "def singleelement(arr, n):\n",
    "\t#dictionary to store frequency\n",
    "\tmm = {}\n",
    "\tfor i in range(n):\n",
    "\t\t#storing frequency\n",
    "\t\tif arr[i] in mm:\n",
    "\t\t\tmm[arr[i]] += 1\n",
    "\t\telse:\n",
    "\t\t\tmm[arr[i]] = 1\n",
    "\t\n",
    "\t#iterating over dictionary\n",
    "\tfor key, value in mm.items():\n",
    "\t\t#returning element with frequency 1\n",
    "\t\tif value == 1:\n",
    "\t\t\treturn key\n",
    "\n",
    "#driver code\n",
    "arr = [2, 3, 5, 4, 5, 3, 4]\n",
    "size = len(arr)\n",
    "arr.sort()\n",
    "print(singleelement(arr, size))\n"
   ]
  },
  {
   "cell_type": "markdown",
   "id": "dd794996-4a21-467d-8127-8242f977a5f7",
   "metadata": {},
   "source": [
    "Question 7\n",
    "You are given an inclusive range [lower, upper] and a sorted unique integer array\n",
    "nums, where all elements are within the inclusive range.\n",
    "\n",
    "A number x is considered missing if x is in the range [lower, upper] and x is not in\n",
    "nums.\n",
    "\n",
    "Return the shortest sorted list of ranges that exactly covers all the missing\n",
    "numbers. That is, no element of nums is included in any of the ranges, and each\n",
    "missing number is covered by one of the ranges.\n",
    "\n",
    "Example 1:\n",
    "Input: nums = [0,1,3,50,75], lower = 0, upper = 99\n",
    "Output: [[2,2],[4,49],[51,74],[76,99]]\n",
    "\n",
    "Explanation: The ranges are:\n",
    "[2,2]\n",
    "[4,49]\n",
    "[51,74]\n",
    "[76,99]"
   ]
  },
  {
   "cell_type": "code",
   "execution_count": 27,
   "id": "8f99dc46-0b5b-4de8-a387-c7a7eebc38f3",
   "metadata": {},
   "outputs": [
    {
     "data": {
      "text/plain": [
       "['2', '4->49', '51->74', '76->99']"
      ]
     },
     "execution_count": 27,
     "metadata": {},
     "output_type": "execute_result"
    }
   ],
   "source": [
    "class Solution:\n",
    "    def findMissingRanges(self, nums, lower, uppe) -> List[str]:\n",
    "        def f(a, b):\n",
    "            return str(a) if a == b else f'{a}->{b}'\n",
    "\n",
    "        n = len(nums)\n",
    "        if n == 0:\n",
    "            return [f(lower, upper)]\n",
    "        ans = []\n",
    "        if nums[0] > lower:\n",
    "            ans.append(f(lower, nums[0] - 1))\n",
    "        for a, b in pairwise(nums):\n",
    "            if b - a > 1:\n",
    "                ans.append(f(a + 1, b - 1))\n",
    "        if nums[-1] < upper:\n",
    "            ans.append(f(nums[-1] + 1, upper))\n",
    "        return ans\n",
    "\n",
    "############\n",
    "\n",
    "class Solution(object):\n",
    "  def findMissingRanges(self, nums, lower, upper):\n",
    "    \"\"\"\n",
    "    :type nums: List[int]\n",
    "    :type lower: int\n",
    "    :type upper: int\n",
    "    :rtype: List[str]\n",
    "    \"\"\"\n",
    "    ans = []\n",
    "    nums = [lower - 1] + nums + [upper + 1]\n",
    "    for i in range(0, len(nums) - 1):\n",
    "      if nums[i] + 2 == nums[i + 1]:\n",
    "        ans.append(str(nums[i] + 1))\n",
    "      if nums[i + 1] > nums[i] + 2:\n",
    "        ans.append(str(nums[i] + 1) + \"->\" + str(nums[i + 1] - 1))\n",
    "    return ans\n",
    "nums = [0,1,3,50,75]\n",
    "lower = 0\n",
    "upper = 99 \n",
    "obj = Solution()\n",
    "obj.findMissingRanges(nums, lower, upper)"
   ]
  },
  {
   "cell_type": "markdown",
   "id": "54b28efb-2735-4809-9579-d35acf1e5063",
   "metadata": {},
   "source": [
    "Question 8\n",
    "Given an array of meeting time intervals where intervals[i] = [starti, endi],\n",
    "determine if a person could attend all meetings.\n",
    "\n",
    "Example 1:\n",
    "Input: intervals = [[0,30],[5,10],[15,20]]\n",
    "Output: false"
   ]
  },
  {
   "cell_type": "code",
   "execution_count": 28,
   "id": "03028121-1632-4120-b90b-09cc59c353c7",
   "metadata": {},
   "outputs": [
    {
     "data": {
      "text/plain": [
       "[[0, 30]]"
      ]
     },
     "execution_count": 28,
     "metadata": {},
     "output_type": "execute_result"
    }
   ],
   "source": [
    "class Solution:\n",
    "    def merge(self, intervals: List[List[int]]) -> List[List[int]]:\n",
    "        intervals=sorted(intervals)\n",
    "        res=[intervals[0]]\n",
    "        for start,end in intervals[1:]:\n",
    "            lastEnd=res[-1][1]\n",
    "            if lastEnd>=start:\n",
    "                res[-1][1]=max(lastEnd,end)\n",
    "            else:\n",
    "                res.append([start,end])\n",
    "        return res\n",
    "intervals = [[0,30],[5,10],[15,20]]\n",
    "obj = Solution()\n",
    "obj.merge(intervals)"
   ]
  },
  {
   "cell_type": "code",
   "execution_count": null,
   "id": "e5a85eb2-3ff3-48f3-9ba7-18f5d32d1b57",
   "metadata": {},
   "outputs": [],
   "source": []
  }
 ],
 "metadata": {
  "kernelspec": {
   "display_name": "Python 3 (ipykernel)",
   "language": "python",
   "name": "python3"
  },
  "language_info": {
   "codemirror_mode": {
    "name": "ipython",
    "version": 3
   },
   "file_extension": ".py",
   "mimetype": "text/x-python",
   "name": "python",
   "nbconvert_exporter": "python",
   "pygments_lexer": "ipython3",
   "version": "3.10.6"
  }
 },
 "nbformat": 4,
 "nbformat_minor": 5
}
