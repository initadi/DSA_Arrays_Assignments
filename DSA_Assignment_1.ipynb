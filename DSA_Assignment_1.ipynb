{
 "cells": [
  {
   "cell_type": "markdown",
   "id": "3b69f6c4-8193-4763-a04a-f5a70cd03f61",
   "metadata": {},
   "source": [
    "# Assignment-1 Database Structures"
   ]
  },
  {
   "cell_type": "code",
   "execution_count": null,
   "id": "148dfeb6-94f4-4067-934e-415e1c042b1d",
   "metadata": {},
   "outputs": [],
   "source": []
  },
  {
   "cell_type": "markdown",
   "id": "08c9febe-0389-4e7c-91c1-e0554126f33c",
   "metadata": {},
   "source": [
    "<aside>\n",
    "💡 **Q1.** Given an array of integers nums and an integer target, return indices of the two numbers such that they add up to target.\n",
    "\n",
    "You may assume that each input would have exactly one solution, and you may not use the same element twice.\n",
    "\n",
    "You can return the answer in any order.\n",
    "\n",
    "**Example:**\n",
    "Input: nums = [2,7,11,15], target = 9\n",
    "Output0 [0,1]\n",
    "\n",
    "**Explanation:** Because nums[0] + nums[1] == 9, we return [0, 1]\n",
    "\n",
    "</aside>"
   ]
  },
  {
   "cell_type": "code",
   "execution_count": 1,
   "id": "2bfa6795-05dd-40b9-9d98-e3c34398f090",
   "metadata": {},
   "outputs": [],
   "source": [
    "class TwoSum:  \n",
    "    def __init__(self, list1, target):  \n",
    "        self.list1 = list1  \n",
    "        self.target = target  \n",
    "          \n",
    "    def scan1(self):  \n",
    "        length = len(list1)  \n",
    "          \n",
    "        for i in range(length-1):  \n",
    "            for j in range(i+1, length):  \n",
    "                if list1[i]+list1[j] == self.target:  \n",
    "                    new_list = i, j  \n",
    "                    return list(new_list)  \n",
    "        return -1 \n",
    "    \n",
    "    def scan2(self):\n",
    "        length = len(list1)\n",
    "        \n",
    "        for k in list1[::-1]:  \n",
    "            for l in range(k+1, length-1):  \n",
    "                if list1[k]+list1[l] == self.target:  \n",
    "                    next_list = k, l \n",
    "                    return list(next_list)\n",
    "        return -1\n"
   ]
  },
  {
   "cell_type": "code",
   "execution_count": 2,
   "id": "a4cd84cf-01d1-416d-9293-54d8f39aae0b",
   "metadata": {},
   "outputs": [
    {
     "name": "stdout",
     "output_type": "stream",
     "text": [
      "[0, 12]\n",
      "[5, 7]\n"
     ]
    },
    {
     "data": {
      "text/plain": [
       "14"
      ]
     },
     "execution_count": 2,
     "metadata": {},
     "output_type": "execute_result"
    }
   ],
   "source": [
    "#list1 = [1, 3, 3, 4, 5,6, 12] \n",
    "#list1 = [1,2,3,3,4,5,6,11,12]\n",
    "#list1 = [1,19,2,3,3,4,13,5,6,11,12,18]\n",
    "list1 = [1,19,2,3,3,4,13,5,6,11,12,18,8,1]\n",
    "target = 9  \n",
    "obj = TwoSum(list1, target)  \n",
    "print(obj.scan1()) \n",
    "print(obj.scan2())\n",
    "len(list1)"
   ]
  },
  {
   "cell_type": "markdown",
   "id": "364058f3-3214-46ed-a925-0272952b37d8",
   "metadata": {},
   "source": [
    "<aside>\n",
    "💡 Given an integer array nums and an integer val, remove all occurrences of val in nums in-place. The order of the elements may be changed. Then return the number of elements in nums which are not equal to val.\n",
    "\n",
    "Consider the number of elements in nums which are not equal to val be k, to get accepted, you need to do the following things:\n",
    "\n",
    "- Change the array nums such that the first k elements of nums contain the elements which are not equal to val. The remaining elements of nums are not important as well as the size of nums.\n",
    "- Return k.\n",
    "\n",
    "**Example :**\n",
    "Input: nums = [3,2,2,3], val = 3\n",
    "Output: 2, nums = [2,2,_*,_*]\n",
    "\n",
    "**Explanation:** Your function should return k = 2, with the first two elements of nums being 2. It does not matter what you leave beyond the returned k (hence they are underscores)\n",
    "\n",
    "</aside>"
   ]
  },
  {
   "cell_type": "code",
   "execution_count": 3,
   "id": "018320f9-29cf-471b-bf11-d1128ba12079",
   "metadata": {},
   "outputs": [
    {
     "name": "stdout",
     "output_type": "stream",
     "text": [
      "0\n",
      "0\n"
     ]
    },
    {
     "data": {
      "text/plain": [
       "[3, 3]"
      ]
     },
     "execution_count": 3,
     "metadata": {},
     "output_type": "execute_result"
    }
   ],
   "source": [
    "nums = [3,2,2,3]\n",
    "val = 2\n",
    "class Solution:\n",
    "    nums = nums.sort()\n",
    "    def removeElement(nums, val):\n",
    "        while True:\n",
    "            try:\n",
    "                a = nums.index(val)\n",
    "                print(a)\n",
    "            except: break\n",
    "            nums.pop(a)\n",
    "        return nums\n",
    "obj = Solution\n",
    "obj.removeElement(nums, val)"
   ]
  },
  {
   "cell_type": "markdown",
   "id": "89eed6bd-b1ad-4a34-8608-9358508ad72b",
   "metadata": {},
   "source": [
    "<aside>\n",
    "💡 **Q3.** Given a sorted array of distinct integers and a target value, return the index if the target is found. If not, return the index where it would be if it were inserted in order.\n",
    "\n",
    "You must write an algorithm with O(log n) runtime complexity.\n",
    "\n",
    "**Example 1:**\n",
    "Input: nums = [1,3,5,6], target = 5\n",
    "\n",
    "Output: 2\n",
    "\n",
    "</aside>"
   ]
  },
  {
   "cell_type": "code",
   "execution_count": 15,
   "id": "b7460543-e0e4-4ab3-a50b-b992e93f3647",
   "metadata": {},
   "outputs": [
    {
     "name": "stdout",
     "output_type": "stream",
     "text": [
      "[6]\n",
      "The index at which the target will be inserted: 2\n"
     ]
    }
   ],
   "source": [
    "class Solution:\n",
    "    def searchInsert(self, nums, target):\n",
    "        # Last and First indexes\n",
    "        start = 0\n",
    "        end = len(nums)-1\n",
    "        a = nums[-1:]\n",
    "        print(a)\n",
    "        \n",
    "        # Traverse an array\n",
    "        while (start <= end):\n",
    "            \n",
    "            mid = (start + end)/2\n",
    "             \n",
    "            # if target value found.\n",
    "            if nums[int(mid)] == target:\n",
    "                return int(mid)\n",
    "            \n",
    "            # If target value is greater then mid elements's value\n",
    "            elif target > nums[int(mid)]:\n",
    "                start = mid + 1\n",
    "                \n",
    "            # otherwise target value is less, \n",
    "            else:\n",
    "                end = mid -1\n",
    "                \n",
    "        return end+1\n",
    "    \n",
    "nums = [1,3,5,6]\n",
    "target = 5\n",
    "obj = Solution()  \n",
    "print(\"The index at which the target will be inserted:\", obj.searchInsert(nums, target))\n",
    "#Faced error Python TypeError: list indices must be integers or slices, not float Solution\""
   ]
  },
  {
   "cell_type": "code",
   "execution_count": 17,
   "id": "14d9b0ec-ce81-4131-a9cb-60e58ac4f851",
   "metadata": {},
   "outputs": [
    {
     "data": {
      "text/plain": [
       "1"
      ]
     },
     "execution_count": 17,
     "metadata": {},
     "output_type": "execute_result"
    }
   ],
   "source": [
    "#Practise code\n",
    "nums = [1,3,5,6]\n",
    "start = 0\n",
    "end = len(nums) - 1\n",
    "end\n",
    "mid = (start + end)/2\n",
    "int(mid)"
   ]
  },
  {
   "cell_type": "code",
   "execution_count": 6,
   "id": "a77a04ce-a53c-4052-a487-00257d52744b",
   "metadata": {},
   "outputs": [
    {
     "data": {
      "text/plain": [
       "range(0, 4)"
      ]
     },
     "execution_count": 6,
     "metadata": {},
     "output_type": "execute_result"
    }
   ],
   "source": [
    "x=range(0, len(nums))\n",
    "nums = [1,3,5,6]\n",
    "x"
   ]
  },
  {
   "cell_type": "markdown",
   "id": "437092e0-46b2-4cd2-8ca0-074a26f31726",
   "metadata": {},
   "source": [
    "<aside>\n",
    "💡 **Q4.** You are given a large integer represented as an integer array digits, where each digits[i] is the ith digit of the integer. The digits are ordered from most significant to least significant in left-to-right order. The large integer does not contain any leading 0's.\n",
    "\n",
    "Increment the large integer by one and return the resulting array of digits.\n",
    "\n",
    "**Example 1:**\n",
    "Input: digits = [1,2,3]\n",
    "Output: [1,2,4]\n",
    "\n",
    "**Explanation:** The array represents the integer 123.\n",
    "\n",
    "Incrementing by one gives 123 + 1 = 124.\n",
    "Thus, the result should be [1,2,4].\n",
    "\n",
    "</aside>"
   ]
  },
  {
   "cell_type": "code",
   "execution_count": 7,
   "id": "b9c4ced1-353d-4818-b549-9057085deaba",
   "metadata": {},
   "outputs": [
    {
     "data": {
      "text/plain": [
       "[1, 2, 4]"
      ]
     },
     "execution_count": 7,
     "metadata": {},
     "output_type": "execute_result"
    }
   ],
   "source": [
    "class Solution:\n",
    "    def plusOne(self, digits):\n",
    "        \"\"\"\n",
    "        :type digits: List[int]\n",
    "        :rtype: List[int]\n",
    "        \"\"\"\n",
    "        digit_length = len(digits)\n",
    "        \n",
    "        i = digit_length - 1\n",
    "        \n",
    "        while digits[i] == 9 and i >= 0:\n",
    "            i -= 1\n",
    "        \n",
    "        if i == -1:\n",
    "            results = [0]*(digit_length + 1)\n",
    "            results[0] = 1\n",
    "            return results\n",
    "        \n",
    "        results = [0]*(digit_length)\n",
    "        \n",
    "        results[i] = digits[i] + 1\n",
    "        \n",
    "        for j in range(i-1, -1, -1):\n",
    "            results[j] = digits[j]\n",
    "        \n",
    "        return results\n",
    "digits = [1,2,3]\n",
    "obj = Solution()\n",
    "obj.plusOne(digits)"
   ]
  },
  {
   "cell_type": "markdown",
   "id": "671cc627-d2da-4ecd-ab0f-6f1010d40a41",
   "metadata": {},
   "source": [
    "<aside>\n",
    "💡 **Q5.** You are given two integer arrays nums1 and nums2, sorted in non-decreasing order, and two integers m and n, representing the number of elements in nums1 and nums2 respectively.\n",
    "\n",
    "Merge nums1 and nums2 into a single array sorted in non-decreasing order.\n",
    "\n",
    "The final sorted array should not be returned by the function, but instead be stored inside the array nums1. To accommodate this, nums1 has a length of m + n, where the first m elements denote the elements that should be merged, and the last n elements are set to 0 and should be ignored. nums2 has a length of n.\n",
    "\n",
    "**Example 1:**\n",
    "Input: nums1 = [1,2,3,0,0,0], m = 3, nums2 = [2,5,6], n = 3\n",
    "Output: [1,2,2,3,5,6]\n",
    "\n",
    "**Explanation:** The arrays we are merging are [1,2,3] and [2,5,6].\n",
    "The result of the merge is [1,2,2,3,5,6] with the underlined elements coming from nums1.\n",
    "\n",
    "</aside>"
   ]
  },
  {
   "cell_type": "code",
   "execution_count": 8,
   "id": "fdedb7d8-bd01-40c7-80d5-c842a7ce93ae",
   "metadata": {},
   "outputs": [
    {
     "data": {
      "text/plain": [
       "[1, 2, 2, 3, 5, 6]"
      ]
     },
     "execution_count": 8,
     "metadata": {},
     "output_type": "execute_result"
    }
   ],
   "source": [
    "nums1 = [1,2,3,0,0,0]\n",
    "m = 3\n",
    "nums2 = [2,5,6]\n",
    "n = 3\n",
    "def merge(nums1, m, nums2, n):\n",
    "        i=0\n",
    "        for x in range(len(nums1)):\n",
    "            if i>=n:\n",
    "                break\n",
    "            if nums1[x]==0:\n",
    "                nums1[x]=nums2[i]\n",
    "                i+=1 \n",
    "        nums1.sort()\n",
    "        return nums1\n",
    "merge(nums1, m, nums2, n)\n"
   ]
  },
  {
   "cell_type": "markdown",
   "id": "405d6d1d-3764-4928-907f-a6251d5a773f",
   "metadata": {},
   "source": [
    "<aside>\n",
    "💡 **Q6.** Given an integer array nums, return true if any value appears at least twice in the array, and return false if every element is distinct.\n",
    "\n",
    "**Example 1:**\n",
    "Input: nums = [1,2,3,1]\n",
    "\n",
    "Output: true\n",
    "\n",
    "</aside>"
   ]
  },
  {
   "cell_type": "code",
   "execution_count": 9,
   "id": "2bcca07e-8667-4fd2-9bd5-4f79f32bbe7b",
   "metadata": {},
   "outputs": [
    {
     "data": {
      "text/plain": [
       "True"
      ]
     },
     "execution_count": 9,
     "metadata": {},
     "output_type": "execute_result"
    }
   ],
   "source": [
    "# Python3 program to Check if a given array contains duplicate\n",
    "# elements within k distance from each other\n",
    "def checkDuplicatesWithinK(arr,  n,  k):\n",
    " \n",
    "    # traversing the input array\n",
    "    for i in range(n):\n",
    "        j = i + 1\n",
    "        range_ = k\n",
    "         \n",
    "        # searching in next k-1 elements if its duplicate\n",
    "        # is present or not\n",
    "        while (range_ > 0 and j < n):\n",
    "            if (arr[i] == arr[j]):\n",
    "                return True\n",
    "            j += 1\n",
    "            range_ -= 1\n",
    " \n",
    "    return False\n",
    "arr = [1,2,2,1]\n",
    "n=len(arr)\n",
    "k = 2\n",
    "checkDuplicatesWithinK(arr, n, k)"
   ]
  },
  {
   "cell_type": "markdown",
   "id": "43d21357-63f6-4832-9f7c-293bd610561b",
   "metadata": {},
   "source": [
    "<aside>\n",
    "💡 **Q7.** Given an integer array nums, move all 0's to the end of it while maintaining the relative order of the nonzero elements.\n",
    "\n",
    "Note that you must do this in-place without making a copy of the array.\n",
    "\n",
    "**Example 1:**\n",
    "Input: nums = [0,1,0,3,12]\n",
    "Output: [1,3,12,0,0]\n",
    "\n",
    "</aside>"
   ]
  },
  {
   "cell_type": "code",
   "execution_count": 10,
   "id": "3f8a309e-20a0-416a-84b2-a40827f8af62",
   "metadata": {},
   "outputs": [
    {
     "name": "stdout",
     "output_type": "stream",
     "text": [
      "Array after pushing all zeros to end of array:\n",
      "[1, 9, 8, 4, 2, 7, 6, 9, 0, 0, 0, 0]\n"
     ]
    }
   ],
   "source": [
    "# Python3 code to move all zeroes\n",
    "# at the end of array\n",
    "\n",
    "# Function which pushes all\n",
    "# zeros to end of an array.\n",
    "def pushZerosToEnd(arr, n):\n",
    "\tcount = 0 # Count of non-zero elements\n",
    "\t\n",
    "\t# Traverse the array. If element\n",
    "\t# encountered is non-zero, then\n",
    "\t# replace the element at index\n",
    "\t# 'count' with this element\n",
    "\tfor i in range(n):\n",
    "\t\tif arr[i] != 0:\n",
    "\t\t\t\n",
    "\t\t\t# here count is incremented\n",
    "\t\t\tarr[count] = arr[i]\n",
    "\t\t\tcount+=1\n",
    "\t\n",
    "\t# Now all non-zero elements have been\n",
    "\t# shifted to front and 'count' is set\n",
    "\t# as index of first 0. Make all\n",
    "\t# elements 0 from count to end.\n",
    "\twhile count < n:\n",
    "\t\tarr[count] = 0\n",
    "\t\tcount += 1\n",
    "\t\t\n",
    "# Driver code\n",
    "arr = [1, 9, 8, 4, 0, 0, 2, 7, 0, 6, 0, 9]\n",
    "n = len(arr)\n",
    "pushZerosToEnd(arr, n)\n",
    "print(\"Array after pushing all zeros to end of array:\")\n",
    "print(arr)\n",
    "\n",
    "\n"
   ]
  },
  {
   "cell_type": "markdown",
   "id": "d1d274e2-c064-49bf-affa-8c3bfd939bc4",
   "metadata": {},
   "source": [
    "<aside>\n",
    "💡 **Q8.** You have a set of integers s, which originally contains all the numbers from 1 to n. Unfortunately, due to some error, one of the numbers in s got duplicated to another number in the set, which results in repetition of one number and loss of another number.\n",
    "\n",
    "You are given an integer array nums representing the data status of this set after the error.\n",
    "\n",
    "Find the number that occurs twice and the number that is missing and return them in the form of an array.\n",
    "\n",
    "**Example 1:**\n",
    "Input: nums = [1,2,2,4]\n",
    "Output: [2,3]\n",
    "\n",
    "</aside>"
   ]
  },
  {
   "cell_type": "code",
   "execution_count": 11,
   "id": "2ba71400-ff6c-43a4-bb04-c4e3f9c29b7e",
   "metadata": {},
   "outputs": [
    {
     "data": {
      "text/plain": [
       "[2, 3]"
      ]
     },
     "execution_count": 11,
     "metadata": {},
     "output_type": "execute_result"
    }
   ],
   "source": [
    "class Solution:\n",
    "    def findErrorNums(self, nums):\n",
    "        N, dupe = len(nums), 0\n",
    "        seen, sumN = [0] * (N+1), N * (N+1) // 2\n",
    "        for num in nums:\n",
    "            sumN -= num\n",
    "            if seen[num]: dupe = num\n",
    "            seen[num] += 1\n",
    "        return [dupe, sumN + dupe]\n",
    "nums = [1,2,2,4]\n",
    "obj = Solution()\n",
    "obj.findErrorNums(nums)"
   ]
  },
  {
   "cell_type": "code",
   "execution_count": null,
   "id": "dd97c1c3-e6c8-4434-867b-5f5c02cb9301",
   "metadata": {},
   "outputs": [],
   "source": []
  }
 ],
 "metadata": {
  "kernelspec": {
   "display_name": "Python 3 (ipykernel)",
   "language": "python",
   "name": "python3"
  },
  "language_info": {
   "codemirror_mode": {
    "name": "ipython",
    "version": 3
   },
   "file_extension": ".py",
   "mimetype": "text/x-python",
   "name": "python",
   "nbconvert_exporter": "python",
   "pygments_lexer": "ipython3",
   "version": "3.10.6"
  }
 },
 "nbformat": 4,
 "nbformat_minor": 5
}
